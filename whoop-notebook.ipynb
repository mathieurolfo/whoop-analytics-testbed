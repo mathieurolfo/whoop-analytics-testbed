{
 "cells": [
  {
   "cell_type": "markdown",
   "metadata": {},
   "source": [
    "## Get Weekly Activity Counts"
   ]
  },
  {
   "cell_type": "code",
   "execution_count": 1,
   "metadata": {},
   "outputs": [],
   "source": [
    "from whoop_download import whoop_login"
   ]
  },
  {
   "cell_type": "code",
   "execution_count": 2,
   "metadata": {},
   "outputs": [
    {
     "name": "stdout",
     "output_type": "stream",
     "text": [
      "Authentication successful\n"
     ]
    }
   ],
   "source": [
    "client=whoop_login()\n",
    "client.get_authorization('whoop.ini')"
   ]
  },
  {
   "cell_type": "code",
   "execution_count": 23,
   "metadata": {},
   "outputs": [
    {
     "name": "stdout",
     "output_type": "stream",
     "text": [
      "Week of  2021-03-01  to  2021-03-07\n",
      "Activity Count:  2\n",
      "Operations - Tactical (15.53), Yoga (6.45)\n",
      "\n",
      "Week of  2021-03-08  to  2021-03-14\n",
      "Activity Count:  2\n",
      "CrossFit® Training (7.3), Skiing (8.77)\n",
      "\n",
      "Week of  2021-03-15  to  2021-03-21\n",
      "Activity Count:  4\n",
      "Skiing (15.18), Cycling (11.9), Cycling (15.43), Cycling (13.48)\n",
      "\n",
      "Week of  2021-03-22  to  2021-03-28\n",
      "Activity Count:  5\n",
      "Cycling (11.17), Pickleball (11.65), Cycling (9.36), Cycling (12.99), Operations - Tactical (12.76)\n",
      "\n",
      "Week of  2021-03-29  to  2021-04-04\n",
      "Activity Count:  4\n",
      "CrossFit® Training (8.71), Functional Fitness (6.59), CrossFit® Training (6.95), Walking (14.64)\n",
      "\n",
      "Week of  2021-04-05  to  2021-04-11\n",
      "Activity Count:  4\n",
      "Cycling (9.9), Operations - Flying (14.18), Walking (11.86), Cycling (13.59)\n",
      "\n",
      "Week of  2021-04-12  to  2021-04-18\n",
      "Activity Count:  2\n",
      "CrossFit® Training (9.35), Operations - Flying (11.59)\n",
      "\n",
      "Week of  2021-04-19  to  2021-04-25\n",
      "Activity Count:  3\n",
      "Yoga (4.87), Cycling (12.06), Walking (8.1)\n",
      "\n",
      "Week of  2021-04-26  to  2021-05-02\n",
      "Activity Count:  3\n",
      "Yoga (4.8), Spikeball® (19.18), Cycling (18.41)\n",
      "\n",
      "Week of  2021-05-03  to  2021-05-09\n",
      "Activity Count:  2\n",
      "Spikeball® (16.18), Yoga (3.96)\n",
      "\n",
      "Week of  2021-05-10  to  2021-05-16\n",
      "Activity Count:  4\n",
      "Running (14.03), Yoga (4.94), CrossFit® Training (7.19), Yoga (4.13)\n",
      "\n",
      "Week of  2021-05-17  to  2021-05-23\n",
      "Activity Count:  4\n",
      "CrossFit® Training (6.92), Commuting (14.26), CrossFit® Training (10.82), Spikeball® (14.56)\n",
      "\n",
      "Week of  2021-05-24  to  2021-05-30\n",
      "Activity Count:  3\n",
      "Spikeball® (17.97), Cycling (10.41), Yoga (4.74)\n",
      "\n",
      "Week of  2021-05-31  to  2021-06-06\n",
      "Activity Count:  2\n",
      "Yoga (5.68), Activity (9.52)\n",
      "\n",
      "Week of  2021-06-07  to  2021-06-13\n",
      "Activity Count:  3\n",
      "Activity (15.53), Cycling (9.3), Running (15.72)\n",
      "\n",
      "Week of  2021-06-14  to  2021-06-20\n",
      "Activity Count:  3\n",
      "Spin (11.48), Cycling (12.7), CrossFit® Training (12.15)\n",
      "\n",
      "Week of  2021-06-21  to  2021-06-27\n",
      "Activity Count:  6\n",
      "Running (9.71), CrossFit® Training (8.29), Activity (9.97), Wheelchair Pushing (13.32), Spikeball® (6.44), Spikeball® (9.8)\n",
      "\n",
      "Week of  2021-06-28  to  2021-07-04\n",
      "Activity Count:  4\n",
      "Cycling (11.68), CrossFit® Training (9.87), Spikeball® (13.1), Swimming (8.1)\n",
      "\n",
      "Week of  2021-07-05  to  2021-07-11\n",
      "Activity Count:  3\n",
      "Hiking/Rucking (12.82), Pickleball (14.98), Functional Fitness (4.84)\n",
      "\n",
      "Week of  2021-07-12  to  2021-07-18\n",
      "Activity Count:  2\n",
      "Cycling (12.26), CrossFit® Training (12.24)\n",
      "\n"
     ]
    }
   ],
   "source": [
    "from datetime import date, timedelta, datetime\n",
    "from dateutil.rrule import rrule, WEEKLY\n",
    "\n",
    "keydata=client.get_keydata_all()\n",
    "\n",
    "start = date(2021, 3, 1) # First day of my own whoop data\n",
    "end = datetime.utcnow()\n",
    "\n",
    "for dt in rrule(WEEKLY, dtstart=start, until=end):\n",
    "    plus_one_week = dt + timedelta(days=6)\n",
    "    week_activities = client.get_activities_timeframe(dt.strftime(\"%Y-%m-%d\"), plus_one_week.strftime(\"%Y-%m-%d\"))\n",
    "    print(\"Week of \", dt.strftime(\"%Y-%m-%d\"), \" to \", plus_one_week.strftime(\"%Y-%m-%d\"))\n",
    "    print(\"Activity Count: \", len(week_activities.index))\n",
    "    act_str = \"\"\n",
    "    for x in range(len(week_activities.index) - 1):\n",
    "        act_str += week_activities[\"sport_name\"][x] + \" (\" + str(round(week_activities[\"cumulativeWorkoutStrain\"][x], 2)) + \")\" + \", \"\n",
    "    act_str += week_activities[\"sport_name\"][len(week_activities.index)-1] + \" (\" + str(round(week_activities[\"cumulativeWorkoutStrain\"][len(week_activities.index)-1], 2)) + \")\"\n",
    "    print(act_str)\n",
    "    print()\n"
   ]
  }
 ],
 "metadata": {
  "kernelspec": {
   "display_name": "Python 3 (ipykernel)",
   "language": "python",
   "name": "python3"
  },
  "language_info": {
   "codemirror_mode": {
    "name": "ipython",
    "version": 3
   },
   "file_extension": ".py",
   "mimetype": "text/x-python",
   "name": "python",
   "nbconvert_exporter": "python",
   "pygments_lexer": "ipython3",
   "version": "3.8.2"
  }
 },
 "nbformat": 4,
 "nbformat_minor": 4
}
